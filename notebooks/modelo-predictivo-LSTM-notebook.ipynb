{
 "cells": [
  {
   "cell_type": "markdown",
   "metadata": {},
   "source": []
  },
  {
   "cell_type": "code",
   "execution_count": 1,
   "metadata": {},
   "outputs": [
    {
     "name": "stdout",
     "output_type": "stream",
     "text": [
      "Directorio actual: /Users/mayel/repos/banco-base-proyecto-test/notebooks\n",
      "Directorio del proyecto: /Users/mayel/repos/banco-base-proyecto-test\n",
      "\n",
      "Verificando estructura del proyecto:\n",
      "¿Existe src/?: True\n",
      "¿Existe data/processed/?: True\n",
      "\n",
      "Contenido de data/processed/:\n",
      "['stocks_2024-11-11.csv', 'stocks_2024-11-10.csv', 'stocks_2024-11-12.csv', 'features', 'sentiment_features_2024-11-12.csv', 'fx_rates_2024-11-12.csv', 'models', 'fx_rates_2024-11-10.csv', 'fx_rates_2024-11-11.csv', 'correlation_matrix_2024-11-11.csv', 'correlation_matrix_2024-11-10.csv', 'correlation_matrix_2024-11-12.csv', 'statistical_features_2024-11-12.csv', 'news_2024-11-12.csv', 'news_2024-11-11.csv', 'news_2024-11-10.csv', 'technical_features_2024-11-12.csv']\n",
      "\n",
      "Path actualizado: /Users/mayel/repos/banco-base-proyecto-test\n"
     ]
    },
    {
     "name": "stderr",
     "output_type": "stream",
     "text": [
      "2024-11-12 20:18:38.431119: I tensorflow/core/platform/cpu_feature_guard.cc:193] This TensorFlow binary is optimized with oneAPI Deep Neural Network Library (oneDNN) to use the following CPU instructions in performance-critical operations:  AVX2 FMA\n",
      "To enable them in other operations, rebuild TensorFlow with the appropriate compiler flags.\n"
     ]
    },
    {
     "name": "stdout",
     "output_type": "stream",
     "text": [
      "\n",
      "Módulos importados correctamente\n"
     ]
    }
   ],
   "source": [
    "# Importación de librerías\n",
    "import sys\n",
    "import os\n",
    "import pandas as pd\n",
    "import numpy as np\n",
    "import matplotlib.pyplot as plt\n",
    "import seaborn as sns\n",
    "import plotly.graph_objects as go\n",
    "from datetime import datetime, timedelta\n",
    "\n",
    "# Configuración de visualización\n",
    "sns.set_theme(style=\"whitegrid\")\n",
    "%matplotlib inline\n",
    "pd.set_option('display.max_columns', None)\n",
    "\n",
    "# Verificar estructura del proyecto\n",
    "notebook_dir = os.getcwd()\n",
    "print(\"Directorio actual:\", notebook_dir)\n",
    "\n",
    "# Detectar y configurar rutas\n",
    "if os.path.basename(notebook_dir) == 'notebooks':\n",
    "    project_dir = os.path.dirname(notebook_dir)\n",
    "    data_path = os.path.join(notebook_dir, 'data', 'processed')\n",
    "else:\n",
    "    project_dir = notebook_dir\n",
    "    data_path = os.path.join(project_dir, 'notebooks', 'data', 'processed')\n",
    "\n",
    "print(\"Directorio del proyecto:\", project_dir)\n",
    "\n",
    "# Verificar y crear directorios necesarios\n",
    "src_path = os.path.join(project_dir, 'src')\n",
    "utils_path = os.path.join(src_path, 'utils')\n",
    "\n",
    "# Crear __init__.py si no existen\n",
    "init_files = [\n",
    "    os.path.join(src_path, '__init__.py'),\n",
    "    os.path.join(utils_path, '__init__.py')\n",
    "]\n",
    "\n",
    "for init_file in init_files:\n",
    "    if not os.path.exists(os.path.dirname(init_file)):\n",
    "        os.makedirs(os.path.dirname(init_file))\n",
    "    if not os.path.exists(init_file):\n",
    "        open(init_file, 'a').close()\n",
    "        print(f\"Creado {init_file}\")\n",
    "\n",
    "print(\"\\nVerificando estructura del proyecto:\")\n",
    "print(f\"¿Existe src/?: {os.path.exists(src_path)}\")\n",
    "print(f\"¿Existe data/processed/?: {os.path.exists(data_path)}\")\n",
    "\n",
    "if os.path.exists(data_path):\n",
    "    print(\"\\nContenido de data/processed/:\")\n",
    "    print(os.listdir(data_path))\n",
    "\n",
    "# Agregar proyecto al path de Python\n",
    "if os.path.exists(project_dir):\n",
    "    if project_dir not in sys.path:\n",
    "        sys.path.insert(0, project_dir)\n",
    "        print(\"\\nPath actualizado:\", project_dir)\n",
    "\n",
    "# Intentar importar nuestros módulos\n",
    "try:\n",
    "    from src.utils.model_engineering import ModelEngineer\n",
    "    print(\"\\nMódulos importados correctamente\")\n",
    "except ImportError as e:\n",
    "    print(\"\\nError importando módulos:\", str(e))\n",
    "    print(\"\\nDetalles del error:\")\n",
    "    import traceback\n",
    "    traceback.print_exc()\n",
    "\n",
    "# Definir período de análisis\n",
    "end_date = datetime.now()\n",
    "end_date_str = end_date.strftime('%Y-%m-%d')"
   ]
  },
  {
   "cell_type": "code",
   "execution_count": 2,
   "metadata": {},
   "outputs": [
    {
     "name": "stdout",
     "output_type": "stream",
     "text": [
      "\n",
      "Cargando datos procesados...\n",
      "Datos técnicos cargados de: technical_features_2024-11-12.csv\n",
      "Datos estadísticos cargados de: statistical_features_2024-11-12.csv\n",
      "Datos de sentimiento cargados de: sentiment_features_2024-11-12.csv\n"
     ]
    }
   ],
   "source": [
    "# Cargar datos procesados\n",
    "try:\n",
    "    print(\"\\nCargando datos procesados...\")\n",
    "    \n",
    "    # Cargar características técnicas\n",
    "    tech_files = [f for f in os.listdir(data_path) if f.startswith('technical_features_')]\n",
    "    latest_tech = max(tech_files)\n",
    "    technical_data = pd.read_csv(os.path.join(data_path, latest_tech), index_col=0, parse_dates=True)\n",
    "    print(f\"Datos técnicos cargados de: {latest_tech}\")\n",
    "    \n",
    "    # Cargar características estadísticas\n",
    "    stat_files = [f for f in os.listdir(data_path) if f.startswith('statistical_features_')]\n",
    "    latest_stat = max(stat_files)\n",
    "    statistical_data = pd.read_csv(os.path.join(data_path, latest_stat), index_col=0, parse_dates=True)\n",
    "    print(f\"Datos estadísticos cargados de: {latest_stat}\")\n",
    "    \n",
    "    # Cargar características de sentimiento si existen\n",
    "    sentiment_data = None\n",
    "    sent_files = [f for f in os.listdir(data_path) if f.startswith('sentiment_features_')]\n",
    "    if sent_files:\n",
    "        latest_sent = max(sent_files)\n",
    "        sentiment_data = pd.read_csv(os.path.join(data_path, latest_sent), index_col=0, parse_dates=True)\n",
    "        print(f\"Datos de sentimiento cargados de: {latest_sent}\")\n",
    "\n",
    "except Exception as e:\n",
    "    print(f\"\\nError cargando los datos: {str(e)}\")\n",
    "    raise"
   ]
  },
  {
   "cell_type": "code",
   "execution_count": 3,
   "metadata": {},
   "outputs": [
    {
     "name": "stdout",
     "output_type": "stream",
     "text": [
      "Usando Keras versión: 2.10.0\n"
     ]
    }
   ],
   "source": [
    "# Inicializar el modelo\n",
    "model_engineer = ModelEngineer()"
   ]
  },
  {
   "cell_type": "code",
   "execution_count": 19,
   "metadata": {},
   "outputs": [
    {
     "name": "stdout",
     "output_type": "stream",
     "text": [
      "\n",
      "Preparando datos para el modelo...\n",
      "\n",
      "Dimensiones de los datos:\n",
      "Train: (44, 10, 28)\n",
      "Test: (11, 10, 28)\n",
      "\n",
      "Construyendo modelo LSTM...\n",
      "\n",
      "Entrenando modelo...\n",
      "Epoch 1/1250\n",
      "5/5 [==============================] - 6s 235ms/step - loss: 0.1031 - mae: 0.2569 - val_loss: 0.0943 - val_mae: 0.3039\n",
      "Epoch 2/1250\n",
      "5/5 [==============================] - 0s 29ms/step - loss: 0.0688 - mae: 0.2120 - val_loss: 0.0774 - val_mae: 0.2744\n",
      "Epoch 3/1250\n",
      "5/5 [==============================] - 0s 18ms/step - loss: 0.0408 - mae: 0.1760 - val_loss: 0.1981 - val_mae: 0.4426\n",
      "Epoch 4/1250\n",
      "5/5 [==============================] - 0s 19ms/step - loss: 0.0334 - mae: 0.1394 - val_loss: 0.1892 - val_mae: 0.4326\n",
      "Epoch 5/1250\n",
      "5/5 [==============================] - 0s 17ms/step - loss: 0.0244 - mae: 0.1104 - val_loss: 0.0807 - val_mae: 0.2806\n",
      "Epoch 6/1250\n",
      "5/5 [==============================] - 0s 58ms/step - loss: 0.0282 - mae: 0.1292 - val_loss: 0.0586 - val_mae: 0.2381\n",
      "Epoch 7/1250\n",
      "5/5 [==============================] - 0s 17ms/step - loss: 0.0176 - mae: 0.1052 - val_loss: 0.0668 - val_mae: 0.2548\n",
      "Epoch 8/1250\n",
      "5/5 [==============================] - 0s 18ms/step - loss: 0.0173 - mae: 0.0979 - val_loss: 0.0728 - val_mae: 0.2660\n",
      "Epoch 9/1250\n",
      "5/5 [==============================] - 0s 16ms/step - loss: 0.0144 - mae: 0.0964 - val_loss: 0.0603 - val_mae: 0.2413\n",
      "Epoch 10/1250\n",
      "5/5 [==============================] - 0s 26ms/step - loss: 0.0155 - mae: 0.0899 - val_loss: 0.0440 - val_mae: 0.2046\n",
      "Epoch 11/1250\n",
      "5/5 [==============================] - 0s 25ms/step - loss: 0.0135 - mae: 0.0936 - val_loss: 0.0287 - val_mae: 0.1627\n",
      "Epoch 12/1250\n",
      "5/5 [==============================] - 0s 20ms/step - loss: 0.0153 - mae: 0.0870 - val_loss: 0.0345 - val_mae: 0.1793\n",
      "Epoch 13/1250\n",
      "5/5 [==============================] - 0s 19ms/step - loss: 0.0124 - mae: 0.0823 - val_loss: 0.0416 - val_mae: 0.1977\n",
      "Epoch 14/1250\n",
      "5/5 [==============================] - 0s 19ms/step - loss: 0.0128 - mae: 0.0739 - val_loss: 0.0376 - val_mae: 0.1865\n",
      "Epoch 15/1250\n",
      "5/5 [==============================] - 0s 20ms/step - loss: 0.0102 - mae: 0.0777 - val_loss: 0.0441 - val_mae: 0.2021\n",
      "Epoch 16/1250\n",
      "5/5 [==============================] - 0s 19ms/step - loss: 0.0092 - mae: 0.0757 - val_loss: 0.0435 - val_mae: 0.2000\n",
      "Epoch 17/1250\n",
      "5/5 [==============================] - 0s 18ms/step - loss: 0.0075 - mae: 0.0680 - val_loss: 0.0351 - val_mae: 0.1769\n",
      "Epoch 18/1250\n",
      "5/5 [==============================] - 0s 19ms/step - loss: 0.0082 - mae: 0.0703 - val_loss: 0.0368 - val_mae: 0.1809\n",
      "Epoch 19/1250\n",
      "5/5 [==============================] - 0s 19ms/step - loss: 0.0127 - mae: 0.0804 - val_loss: 0.0389 - val_mae: 0.1856\n",
      "Epoch 20/1250\n",
      "5/5 [==============================] - 0s 19ms/step - loss: 0.0107 - mae: 0.0700 - val_loss: 0.0412 - val_mae: 0.1913\n",
      "Epoch 21/1250\n",
      "5/5 [==============================] - 0s 26ms/step - loss: 0.0090 - mae: 0.0696 - val_loss: 0.0277 - val_mae: 0.1526\n",
      "Epoch 22/1250\n",
      "5/5 [==============================] - 0s 45ms/step - loss: 0.0113 - mae: 0.0811 - val_loss: 0.0500 - val_mae: 0.2119\n",
      "Epoch 23/1250\n",
      "5/5 [==============================] - 0s 19ms/step - loss: 0.0108 - mae: 0.0781 - val_loss: 0.0448 - val_mae: 0.1976\n",
      "Epoch 24/1250\n",
      "5/5 [==============================] - 0s 19ms/step - loss: 0.0078 - mae: 0.0641 - val_loss: 0.0298 - val_mae: 0.1533\n",
      "Epoch 25/1250\n",
      "5/5 [==============================] - 0s 25ms/step - loss: 0.0074 - mae: 0.0700 - val_loss: 0.0164 - val_mae: 0.1053\n",
      "Epoch 26/1250\n",
      "5/5 [==============================] - 0s 18ms/step - loss: 0.0069 - mae: 0.0622 - val_loss: 0.0437 - val_mae: 0.1902\n",
      "Epoch 27/1250\n",
      "5/5 [==============================] - 0s 18ms/step - loss: 0.0112 - mae: 0.0857 - val_loss: 0.0305 - val_mae: 0.1511\n",
      "Epoch 28/1250\n",
      "5/5 [==============================] - 0s 20ms/step - loss: 0.0081 - mae: 0.0730 - val_loss: 0.0294 - val_mae: 0.1460\n",
      "Epoch 29/1250\n",
      "5/5 [==============================] - 0s 20ms/step - loss: 0.0090 - mae: 0.0695 - val_loss: 0.0628 - val_mae: 0.2320\n",
      "Epoch 30/1250\n",
      "5/5 [==============================] - 0s 20ms/step - loss: 0.0105 - mae: 0.0786 - val_loss: 0.0298 - val_mae: 0.1448\n",
      "Epoch 31/1250\n",
      "5/5 [==============================] - 0s 20ms/step - loss: 0.0070 - mae: 0.0647 - val_loss: 0.0256 - val_mae: 0.1329\n",
      "Epoch 32/1250\n",
      "5/5 [==============================] - 0s 19ms/step - loss: 0.0092 - mae: 0.0701 - val_loss: 0.0432 - val_mae: 0.1849\n",
      "Epoch 33/1250\n",
      "5/5 [==============================] - 0s 46ms/step - loss: 0.0041 - mae: 0.0520 - val_loss: 0.0350 - val_mae: 0.1615\n",
      "Epoch 34/1250\n",
      "5/5 [==============================] - 0s 18ms/step - loss: 0.0073 - mae: 0.0643 - val_loss: 0.0287 - val_mae: 0.1422\n",
      "Epoch 35/1250\n",
      "5/5 [==============================] - 0s 18ms/step - loss: 0.0081 - mae: 0.0656 - val_loss: 0.0358 - val_mae: 0.1644\n",
      "Epoch 36/1250\n",
      "5/5 [==============================] - 0s 19ms/step - loss: 0.0088 - mae: 0.0695 - val_loss: 0.0289 - val_mae: 0.1415\n",
      "Epoch 37/1250\n",
      "5/5 [==============================] - 0s 21ms/step - loss: 0.0058 - mae: 0.0564 - val_loss: 0.0394 - val_mae: 0.1696\n",
      "Epoch 38/1250\n",
      "5/5 [==============================] - 0s 20ms/step - loss: 0.0079 - mae: 0.0687 - val_loss: 0.0345 - val_mae: 0.1539\n",
      "Epoch 39/1250\n",
      "5/5 [==============================] - 0s 19ms/step - loss: 0.0063 - mae: 0.0618 - val_loss: 0.0473 - val_mae: 0.1895\n",
      "Epoch 40/1250\n",
      "5/5 [==============================] - 0s 23ms/step - loss: 0.0068 - mae: 0.0592 - val_loss: 0.0320 - val_mae: 0.1490\n",
      "Epoch 41/1250\n",
      "5/5 [==============================] - 0s 19ms/step - loss: 0.0056 - mae: 0.0577 - val_loss: 0.0371 - val_mae: 0.1622\n",
      "Epoch 42/1250\n",
      "5/5 [==============================] - 0s 21ms/step - loss: 0.0085 - mae: 0.0661 - val_loss: 0.0527 - val_mae: 0.2040\n",
      "Epoch 43/1250\n",
      "5/5 [==============================] - 0s 55ms/step - loss: 0.0084 - mae: 0.0686 - val_loss: 0.0446 - val_mae: 0.1849\n",
      "Epoch 44/1250\n",
      "5/5 [==============================] - 0s 29ms/step - loss: 0.0063 - mae: 0.0609 - val_loss: 0.0551 - val_mae: 0.2113\n",
      "Epoch 45/1250\n",
      "5/5 [==============================] - 0s 21ms/step - loss: 0.0097 - mae: 0.0714 - val_loss: 0.0589 - val_mae: 0.2197\n"
     ]
    },
    {
     "data": {
      "image/png": "[encoded data removed]",
      "text/plain": [
       "<Figure size 1500x500 with 2 Axes>"
      ]
     },
     "metadata": {},
     "output_type": "display_data"
    },
    {
     "name": "stdout",
     "output_type": "stream",
     "text": [
      "\n",
      "Evaluando modelo...\n",
      "1/1 [==============================] - 1s 952ms/step\n",
      "\n",
      "Métricas de evaluación:\n",
      "loss: 0.0164\n",
      "mae: 0.1053\n"
     ]
    },
    {
     "data": {
      "application/vnd.plotly.v1+json": {
       "config": {
        "plotlyServerURL": "https://plot.ly"
       },
       "data": [
        {
         "line": {
          "color": "blue"
         },
         "mode": "lines",
         "name": "Valores Reales",
         "type": "scatter",
         "x": [
          0,
          1,
          2,
          3,
          4,
          5,
          6,
          7,
          8,
          9,
          10
         ],
         "y": [
          19.603700000000003,
          19.8168,
          19.6535,
          19.798,
          19.8335,
          19.846,
          20.0028,
          20.0172,
          19.8798,
          20.0583,
          19.839
         ]
        },
        {
         "line": {
          "color": "red"
         },
         "mode": "lines",
         "name": "Predicciones",
         "type": "scatter",
         "x": [
          0,
          1,
          2,
          3,
          4,
          5,
          6,
          7,
          8,
          9,
          10
         ],
         "y": [
          19.607479095458984,
          19.66375732421875,
          19.720903396606445,
          19.71963119506836,
          19.695680618286133,
          19.639955520629883,
          19.580303192138672,
          19.554672241210938,
          19.556655883789062,
          19.49656105041504,
          19.466455459594727
         ]
        },
        {
         "line": {
          "color": "rgba(255, 0, 0, 0.3)"
         },
         "mode": "lines",
         "name": "Límite Superior",
         "showlegend": false,
         "type": "scatter",
         "x": [
          0,
          1,
          2,
          3,
          4,
          5,
          6,
          7,
          8,
          9,
          10
         ],
         "y": [
          19.985889434814453,
          20.04216766357422,
          20.099313735961914,
          20.098041534423828,
          20.0740909576416,
          20.01836585998535,
          19.95871353149414,
          19.933082580566406,
          19.93506622314453,
          19.874971389770508,
          19.844865798950195
         ]
        },
        {
         "fill": "tonexty",
         "fillcolor": "rgba(255, 0, 0, 0.1)",
         "line": {
          "color": "rgba(255, 0, 0, 0.3)"
         },
         "mode": "lines",
         "name": "Límite Inferior",
         "showlegend": false,
         "type": "scatter",
         "x": [
          0,
          1,
          2,
          3,
          4,
          5,
          6,
          7,
          8,
          9,
          10
         ],
         "y": [
          19.229068756103516,
          19.28534698486328,
          19.342493057250977,
          19.34122085571289,
          19.317270278930664,
          19.261545181274414,
          19.201892852783203,
          19.17626190185547,
          19.178245544433594,
          19.11815071105957,
          19.088045120239258
         ]
        }
       ],
       "layout": {
        "template": {
         "data": {
          "bar": [
           {
            "error_x": {
             "color": "#2a3f5f"
            },
            "error_y": {
             "color": "#2a3f5f"
            },
            "marker": {
             "line": {
              "color": "white",
              "width": 0.5
             },
             "pattern": {
              "fillmode": "overlay",
              "size": 10,
              "solidity": 0.2
             }
            },
            "type": "bar"
           }
          ],
          "barpolar": [
           {
            "marker": {
             "line": {
              "color": "white",
              "width": 0.5
             },
             "pattern": {
              "fillmode": "overlay",
              "size": 10,
              "solidity": 0.2
             }
            },
            "type": "barpolar"
           }
          ],
          "carpet": [
           {
            "aaxis": {
             "endlinecolor": "#2a3f5f",
             "gridcolor": "#C8D4E3",
             "linecolor": "#C8D4E3",
             "minorgridcolor": "#C8D4E3",
             "startlinecolor": "#2a3f5f"
            },
            "baxis": {
             "endlinecolor": "#2a3f5f",
             "gridcolor": "#C8D4E3",
             "linecolor": "#C8D4E3",
             "minorgridcolor": "#C8D4E3",
             "startlinecolor": "#2a3f5f"
            },
            "type": "carpet"
           }
          ],
          "choropleth": [
           {
            "colorbar": {
             "outlinewidth": 0,
             "ticks": ""
            },
            "type": "choropleth"
           }
          ],
          "contour": [
           {
            "colorbar": {
             "outlinewidth": 0,
             "ticks": ""
            },
            "colorscale": [
             [
              0,
              "#0d0887"
             ],
             [
              0.1111111111111111,
              "#46039f"
             ],
             [
              0.2222222222222222,
              "#7201a8"
             ],
             [
              0.3333333333333333,
              "#9c179e"
             ],
             [
              0.4444444444444444,
              "#bd3786"
             ],
             [
              0.5555555555555556,
              "#d8576b"
             ],
             [
              0.6666666666666666,
              "#ed7953"
             ],
             [
              0.7777777777777778,
              "#fb9f3a"
             ],
             [
              0.8888888888888888,
              "#fdca26"
             ],
             [
              1,
              "#f0f921"
             ]
            ],
            "type": "contour"
           }
          ],
          "contourcarpet": [
           {
            "colorbar": {
             "outlinewidth": 0,
             "ticks": ""
            },
            "type": "contourcarpet"
           }
          ],
          "heatmap": [
           {
            "colorbar": {
             "outlinewidth": 0,
             "ticks": ""
            },
            "colorscale": [
             [
              0,
              "#0d0887"
             ],
             [
              0.1111111111111111,
              "#46039f"
             ],
             [
              0.2222222222222222,
              "#7201a8"
             ],
             [
              0.3333333333333333,
              "#9c179e"
             ],
             [
              0.4444444444444444,
              "#bd3786"
             ],
             [
              0.5555555555555556,
              "#d8576b"
             ],
             [
              0.6666666666666666,
              "#ed7953"
             ],
             [
              0.7777777777777778,
              "#fb9f3a"
             ],
             [
              0.8888888888888888,
              "#fdca26"
             ],
             [
              1,
              "#f0f921"
             ]
            ],
            "type": "heatmap"
           }
          ],
          "heatmapgl": [
           {
            "colorbar": {
             "outlinewidth": 0,
             "ticks": ""
            },
            "colorscale": [
             [
              0,
              "#0d0887"
             ],
             [
              0.1111111111111111,
              "#46039f"
             ],
             [
              0.2222222222222222,
              "#7201a8"
             ],
             [
              0.3333333333333333,
              "#9c179e"
             ],
             [
              0.4444444444444444,
              "#bd3786"
             ],
             [
              0.5555555555555556,
              "#d8576b"
             ],
             [
              0.6666666666666666,
              "#ed7953"
             ],
             [
              0.7777777777777778,
              "#fb9f3a"
             ],
             [
              0.8888888888888888,
              "#fdca26"
             ],
             [
              1,
              "#f0f921"
             ]
            ],
            "type": "heatmapgl"
           }
          ],
          "histogram": [
           {
            "marker": {
             "pattern": {
              "fillmode": "overlay",
              "size": 10,
              "solidity": 0.2
             }
            },
            "type": "histogram"
           }
          ],
          "histogram2d": [
           {
            "colorbar": {
             "outlinewidth": 0,
             "ticks": ""
            },
            "colorscale": [
             [
              0,
              "#0d0887"
             ],
             [
              0.1111111111111111,
              "#46039f"
             ],
             [
              0.2222222222222222,
              "#7201a8"
             ],
             [
              0.3333333333333333,
              "#9c179e"
             ],
             [
              0.4444444444444444,
              "#bd3786"
             ],
             [
              0.5555555555555556,
              "#d8576b"
             ],
             [
              0.6666666666666666,
              "#ed7953"
             ],
             [
              0.7777777777777778,
              "#fb9f3a"
             ],
             [
              0.8888888888888888,
              "#fdca26"
             ],
             [
              1,
              "#f0f921"
             ]
            ],
            "type": "histogram2d"
           }
          ],
          "histogram2dcontour": [
           {
            "colorbar": {
             "outlinewidth": 0,
             "ticks": ""
            },
            "colorscale": [
             [
              0,
              "#0d0887"
             ],
             [
              0.1111111111111111,
              "#46039f"
             ],
             [
              0.2222222222222222,
              "#7201a8"
             ],
             [
              0.3333333333333333,
              "#9c179e"
             ],
             [
              0.4444444444444444,
              "#bd3786"
             ],
             [
              0.5555555555555556,
              "#d8576b"
             ],
             [
              0.6666666666666666,
              "#ed7953"
             ],
             [
              0.7777777777777778,
              "#fb9f3a"
             ],
             [
              0.8888888888888888,
              "#fdca26"
             ],
             [
              1,
              "#f0f921"
             ]
            ],
            "type": "histogram2dcontour"
           }
          ],
          "mesh3d": [
           {
            "colorbar": {
             "outlinewidth": 0,
             "ticks": ""
            },
            "type": "mesh3d"
           }
          ],
          "parcoords": [
           {
            "line": {
             "colorbar": {
              "outlinewidth": 0,
              "ticks": ""
             }
            },
            "type": "parcoords"
           }
          ],
          "pie": [
           {
            "automargin": true,
            "type": "pie"
           }
          ],
          "scatter": [
           {
            "fillpattern": {
             "fillmode": "overlay",
             "size": 10,
             "solidity": 0.2
            },
            "type": "scatter"
           }
          ],
          "scatter3d": [
           {
            "line": {
             "colorbar": {
              "outlinewidth": 0,
              "ticks": ""
             }
            },
            "marker": {
             "colorbar": {
              "outlinewidth": 0,
              "ticks": ""
             }
            },
            "type": "scatter3d"
           }
          ],
          "scattercarpet": [
           {
            "marker": {
             "colorbar": {
              "outlinewidth": 0,
              "ticks": ""
             }
            },
            "type": "scattercarpet"
           }
          ],
          "scattergeo": [
           {
            "marker": {
             "colorbar": {
              "outlinewidth": 0,
              "ticks": ""
             }
            },
            "type": "scattergeo"
           }
          ],
          "scattergl": [
           {
            "marker": {
             "colorbar": {
              "outlinewidth": 0,
              "ticks": ""
             }
            },
            "type": "scattergl"
           }
          ],
          "scattermapbox": [
           {
            "marker": {
             "colorbar": {
              "outlinewidth": 0,
              "ticks": ""
             }
            },
            "type": "scattermapbox"
           }
          ],
          "scatterpolar": [
           {
            "marker": {
             "colorbar": {
              "outlinewidth": 0,
              "ticks": ""
             }
            },
            "type": "scatterpolar"
           }
          ],
          "scatterpolargl": [
           {
            "marker": {
             "colorbar": {
              "outlinewidth": 0,
              "ticks": ""
             }
            },
            "type": "scatterpolargl"
           }
          ],
          "scatterternary": [
           {
            "marker": {
             "colorbar": {
              "outlinewidth": 0,
              "ticks": ""
             }
            },
            "type": "scatterternary"
           }
          ],
          "surface": [
           {
            "colorbar": {
             "outlinewidth": 0,
             "ticks": ""
            },
            "colorscale": [
             [
              0,
              "#0d0887"
             ],
             [
              0.1111111111111111,
              "#46039f"
             ],
             [
              0.2222222222222222,
              "#7201a8"
             ],
             [
              0.3333333333333333,
              "#9c179e"
             ],
             [
              0.4444444444444444,
              "#bd3786"
             ],
             [
              0.5555555555555556,
              "#d8576b"
             ],
             [
              0.6666666666666666,
              "#ed7953"
             ],
             [
              0.7777777777777778,
              "#fb9f3a"
             ],
             [
              0.8888888888888888,
              "#fdca26"
             ],
             [
              1,
              "#f0f921"
             ]
            ],
            "type": "surface"
           }
          ],
          "table": [
           {
            "cells": {
             "fill": {
              "color": "#EBF0F8"
             },
             "line": {
              "color": "white"
             }
            },
            "header": {
             "fill": {
              "color": "#C8D4E3"
             },
             "line": {
              "color": "white"
             }
            },
            "type": "table"
           }
          ]
         },
         "layout": {
          "annotationdefaults": {
           "arrowcolor": "#2a3f5f",
           "arrowhead": 0,
           "arrowwidth": 1
          },
          "autotypenumbers": "strict",
          "coloraxis": {
           "colorbar": {
            "outlinewidth": 0,
            "ticks": ""
           }
          },
          "colorscale": {
           "diverging": [
            [
             0,
             "#8e0152"
            ],
            [
             0.1,
             "#c51b7d"
            ],
            [
             0.2,
             "#de77ae"
            ],
            [
             0.3,
             "#f1b6da"
            ],
            [
             0.4,
             "#fde0ef"
            ],
            [
             0.5,
             "#f7f7f7"
            ],
            [
             0.6,
             "#e6f5d0"
            ],
            [
             0.7,
             "#b8e186"
            ],
            [
             0.8,
             "#7fbc41"
            ],
            [
             0.9,
             "#4d9221"
            ],
            [
             1,
             "#276419"
            ]
           ],
           "sequential": [
            [
             0,
             "#0d0887"
            ],
            [
             0.1111111111111111,
             "#46039f"
            ],
            [
             0.2222222222222222,
             "#7201a8"
            ],
            [
             0.3333333333333333,
             "#9c179e"
            ],
            [
             0.4444444444444444,
             "#bd3786"
            ],
            [
             0.5555555555555556,
             "#d8576b"
            ],
            [
             0.6666666666666666,
             "#ed7953"
            ],
            [
             0.7777777777777778,
             "#fb9f3a"
            ],
            [
             0.8888888888888888,
             "#fdca26"
            ],
            [
             1,
             "#f0f921"
            ]
           ],
           "sequentialminus": [
            [
             0,
             "#0d0887"
            ],
            [
             0.1111111111111111,
             "#46039f"
            ],
            [
             0.2222222222222222,
             "#7201a8"
            ],
            [
             0.3333333333333333,
             "#9c179e"
            ],
            [
             0.4444444444444444,
             "#bd3786"
            ],
            [
             0.5555555555555556,
             "#d8576b"
            ],
            [
             0.6666666666666666,
             "#ed7953"
            ],
            [
             0.7777777777777778,
             "#fb9f3a"
            ],
            [
             0.8888888888888888,
             "#fdca26"
            ],
            [
             1,
             "#f0f921"
            ]
           ]
          },
          "colorway": [
           "#636efa",
           "#EF553B",
           "#00cc96",
           "#ab63fa",
           "#FFA15A",
           "#19d3f3",
           "#FF6692",
           "#B6E880",
           "#FF97FF",
           "#FECB52"
          ],
          "font": {
           "color": "#2a3f5f"
          },
          "geo": {
           "bgcolor": "white",
           "lakecolor": "white",
           "landcolor": "white",
           "showlakes": true,
           "showland": true,
           "subunitcolor": "#C8D4E3"
          },
          "hoverlabel": {
           "align": "left"
          },
          "hovermode": "closest",
          "mapbox": {
           "style": "light"
          },
          "paper_bgcolor": "white",
          "plot_bgcolor": "white",
          "polar": {
           "angularaxis": {
            "gridcolor": "#EBF0F8",
            "linecolor": "#EBF0F8",
            "ticks": ""
           },
           "bgcolor": "white",
           "radialaxis": {
            "gridcolor": "#EBF0F8",
            "linecolor": "#EBF0F8",
            "ticks": ""
           }
          },
          "scene": {
           "xaxis": {
            "backgroundcolor": "white",
            "gridcolor": "#DFE8F3",
            "gridwidth": 2,
            "linecolor": "#EBF0F8",
            "showbackground": true,
            "ticks": "",
            "zerolinecolor": "#EBF0F8"
           },
           "yaxis": {
            "backgroundcolor": "white",
            "gridcolor": "#DFE8F3",
            "gridwidth": 2,
            "linecolor": "#EBF0F8",
            "showbackground": true,
            "ticks": "",
            "zerolinecolor": "#EBF0F8"
           },
           "zaxis": {
            "backgroundcolor": "white",
            "gridcolor": "#DFE8F3",
            "gridwidth": 2,
            "linecolor": "#EBF0F8",
            "showbackground": true,
            "ticks": "",
            "zerolinecolor": "#EBF0F8"
           }
          },
          "shapedefaults": {
           "line": {
            "color": "#2a3f5f"
           }
          },
          "ternary": {
           "aaxis": {
            "gridcolor": "#DFE8F3",
            "linecolor": "#A2B1C6",
            "ticks": ""
           },
           "baxis": {
            "gridcolor": "#DFE8F3",
            "linecolor": "#A2B1C6",
            "ticks": ""
           },
           "bgcolor": "white",
           "caxis": {
            "gridcolor": "#DFE8F3",
            "linecolor": "#A2B1C6",
            "ticks": ""
           }
          },
          "title": {
           "x": 0.05
          },
          "xaxis": {
           "automargin": true,
           "gridcolor": "#EBF0F8",
           "linecolor": "#EBF0F8",
           "ticks": "",
           "title": {
            "standoff": 15
           },
           "zerolinecolor": "#EBF0F8",
           "zerolinewidth": 2
          },
          "yaxis": {
           "automargin": true,
           "gridcolor": "#EBF0F8",
           "linecolor": "#EBF0F8",
           "ticks": "",
           "title": {
            "standoff": 15
           },
           "zerolinecolor": "#EBF0F8",
           "zerolinewidth": 2
          }
         }
        },
        "title": {
         "text": "Predicciones vs Valores Reales con Banda de Incertidumbre (95% de Confianza)"
        },
        "xaxis": {
         "title": {
          "text": "Tiempo"
         }
        },
        "yaxis": {
         "title": {
          "text": "USD/MXN"
         }
        }
       }
      }
     },
     "metadata": {},
     "output_type": "display_data"
    },
    {
     "name": "stdout",
     "output_type": "stream",
     "text": [
      "\n",
      "Resultados guardados en: /Users/mayel/repos/banco-base-proyecto-test/notebooks/data/processed/models\n"
     ]
    }
   ],
   "source": [
    "# Preparar datos para el modelo\n",
    "print(\"\\nPreparando datos para el modelo...\")\n",
    "try:\n",
    "    # Restablecer índices para evitar problemas de concatenación\n",
    "    technical_data.reset_index(drop=True, inplace=True)\n",
    "    statistical_data.reset_index(drop=True, inplace=True)\n",
    "    if sentiment_data is not None:\n",
    "        sentiment_data.reset_index(drop=True, inplace=True)\n",
    "    \n",
    "    train_data, test_data = model_engineer.prepare_data(\n",
    "        technical_data=technical_data,\n",
    "        statistical_data=statistical_data,\n",
    "        sentiment_data=sentiment_data\n",
    "    )\n",
    "    \n",
    "    print(\"\\nDimensiones de los datos:\")\n",
    "    print(f\"Train: {train_data['X'].shape}\")\n",
    "    print(f\"Test: {test_data['X'].shape}\")\n",
    "    \n",
    "    # Construir modelo con mayor parametrización\n",
    "    print(\"\\nConstruyendo modelo LSTM...\")\n",
    "    model_engineer.build_model(input_shape=(train_data['X'].shape[1], train_data['X'].shape[2]))\n",
    "    \n",
    "    # Entrenar modelo con más iteraciones y ajuste de parámetros\n",
    "    print(\"\\nEntrenando modelo...\")\n",
    "    history = model_engineer.train_model(\n",
    "        train_data,\n",
    "        test_data,\n",
    "        epochs=1250,  # Ajustar las épocas para un mejor balance entre ajuste y recursos\n",
    "        batch_size=10  # Ajustar el tamaño del lote para un entrenamiento más eficiente\n",
    "    )\n",
    "    \n",
    "    # Visualizar historia del entrenamiento\n",
    "    model_engineer.plot_training_history(history)\n",
    "    \n",
    "    # Evaluar modelo\n",
    "    print(\"\\nEvaluando modelo...\")\n",
    "    metrics, predictions = model_engineer.evaluate_model(test_data)\n",
    "    print(\"\\nMétricas de evaluación:\")\n",
    "    for metric, value in metrics.items():\n",
    "        print(f\"{metric}: {value:.4f}\")\n",
    "    \n",
    "    # Visualizar predicciones con área de incertidumbre\n",
    "    actual_values = model_engineer.scalers['target'].inverse_transform(test_data['y'])\n",
    "    \n",
    "    fig = go.Figure()\n",
    "    fig.add_trace(go.Scatter(\n",
    "        x=np.arange(len(actual_values)),\n",
    "        y=actual_values.flatten(),\n",
    "        mode='lines',\n",
    "        name='Valores Reales',\n",
    "        line=dict(color='blue')\n",
    "    ))\n",
    "    \n",
    "    fig.add_trace(go.Scatter(\n",
    "        x=np.arange(len(predictions)),\n",
    "        y=predictions.flatten(),\n",
    "        mode='lines',\n",
    "        name='Predicciones',\n",
    "        line=dict(color='red')\n",
    "    ))\n",
    "    \n",
    "    # Agregar banda de incertidumbre\n",
    "    prediction_std = np.std(predictions.flatten() - actual_values.flatten())\n",
    "    upper_bound = predictions.flatten() + (prediction_std * 1.96)  # Ajustar la incertidumbre al 95% de confianza\n",
    "    lower_bound = predictions.flatten() - (prediction_std * 1.96)\n",
    "    \n",
    "    fig.add_trace(go.Scatter(\n",
    "        x=np.arange(len(predictions)),\n",
    "        y=upper_bound,\n",
    "        mode='lines',\n",
    "        name='Límite Superior',\n",
    "        line=dict(color='rgba(255, 0, 0, 0.3)'),\n",
    "        showlegend=False\n",
    "    ))\n",
    "    \n",
    "    fig.add_trace(go.Scatter(\n",
    "        x=np.arange(len(predictions)),\n",
    "        y=lower_bound,\n",
    "        mode='lines',\n",
    "        name='Límite Inferior',\n",
    "        line=dict(color='rgba(255, 0, 0, 0.3)'),\n",
    "        fill='tonexty',\n",
    "        fillcolor='rgba(255, 0, 0, 0.1)',\n",
    "        showlegend=False\n",
    "    ))\n",
    "    \n",
    "    fig.update_layout(\n",
    "        title='Predicciones vs Valores Reales con Banda de Incertidumbre (95% de Confianza)',\n",
    "        xaxis_title='Tiempo',\n",
    "        yaxis_title='USD/MXN',\n",
    "        template='plotly_white'\n",
    "    )\n",
    "    \n",
    "    fig.show()\n",
    "    \n",
    "    # Guardar modelo y resultados\n",
    "    output_dir = os.path.join(data_path, 'models')\n",
    "    os.makedirs(output_dir, exist_ok=True)\n",
    "    \n",
    "    # Guardar métricas\n",
    "    pd.DataFrame(metrics, index=[0]).to_csv(\n",
    "        os.path.join(output_dir, f'model_metrics_{end_date_str}.csv')\n",
    "    )\n",
    "    \n",
    "    # Guardar historia del entrenamiento\n",
    "    history.to_csv(os.path.join(output_dir, f'training_history_{end_date_str}.csv'))\n",
    "    \n",
    "    print(f\"\\nResultados guardados en: {output_dir}\")\n",
    "\n",
    "except Exception as e:\n",
    "    print(f\"\\nError en el proceso de modelado: {str(e)}\")\n",
    "    import traceback\n",
    "    traceback.print_exc()\n",
    "\n"
   ]
  }
 ],
 "metadata": {
  "kernelspec": {
   "display_name": "venv",
   "language": "python",
   "name": "python3"
  },
  "language_info": {
   "codemirror_mode": {
    "name": "ipython",
    "version": 3
   },
   "file_extension": ".py",
   "mimetype": "text/x-python",
   "name": "python",
   "nbconvert_exporter": "python",
   "pygments_lexer": "ipython3",
   "version": "3.9.0"
  }
 },
 "nbformat": 4,
 "nbformat_minor": 2
}
