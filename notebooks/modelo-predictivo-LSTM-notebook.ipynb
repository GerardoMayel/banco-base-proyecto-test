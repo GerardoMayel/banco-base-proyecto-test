{
 "cells": [
  {
   "cell_type": "markdown",
   "metadata": {},
   "source": []
  },
  {
   "cell_type": "code",
   "execution_count": 1,
   "metadata": {},
   "outputs": [
    {
     "name": "stdout",
     "output_type": "stream",
     "text": [
      "Directorio actual: /Users/mayel/repos/banco-base-proyecto-test/notebooks\n",
      "Directorio del proyecto: /Users/mayel/repos/banco-base-proyecto-test\n",
      "\n",
      "Verificando estructura del proyecto:\n",
      "¿Existe src/?: True\n",
      "¿Existe data/processed/?: True\n",
      "\n",
      "Contenido de data/processed/:\n",
      "['stocks_2024-11-11.csv', 'stocks_2024-11-10.csv', 'stocks_2024-11-12.csv', 'features', 'sentiment_features_2024-11-12.csv', 'fx_rates_2024-11-12.csv', 'models', 'fx_rates_2024-11-10.csv', 'fx_rates_2024-11-11.csv', 'correlation_matrix_2024-11-11.csv', 'correlation_matrix_2024-11-10.csv', 'correlation_matrix_2024-11-12.csv', 'statistical_features_2024-11-12.csv', 'news_2024-11-12.csv', 'news_2024-11-11.csv', 'news_2024-11-10.csv', 'technical_features_2024-11-12.csv']\n",
      "\n",
      "Path actualizado: /Users/mayel/repos/banco-base-proyecto-test\n"
     ]
    },
    {
     "name": "stderr",
     "output_type": "stream",
     "text": [
      "2024-11-12 20:43:18.362476: I tensorflow/core/platform/cpu_feature_guard.cc:193] This TensorFlow binary is optimized with oneAPI Deep Neural Network Library (oneDNN) to use the following CPU instructions in performance-critical operations:  AVX2 FMA\n",
      "To enable them in other operations, rebuild TensorFlow with the appropriate compiler flags.\n"
     ]
    },
    {
     "name": "stdout",
     "output_type": "stream",
     "text": [
      "\n",
      "Módulos importados correctamente\n"
     ]
    }
   ],
   "source": [
    "# Importación de librerías\n",
    "import sys\n",
    "import os\n",
    "import pandas as pd\n",
    "import numpy as np\n",
    "import matplotlib.pyplot as plt\n",
    "import seaborn as sns\n",
    "import plotly.graph_objects as go\n",
    "from datetime import datetime, timedelta\n",
    "\n",
    "# Configuración de visualización\n",
    "sns.set_theme(style=\"whitegrid\")\n",
    "%matplotlib inline\n",
    "pd.set_option('display.max_columns', None)\n",
    "\n",
    "# Verificar estructura del proyecto\n",
    "notebook_dir = os.getcwd()\n",
    "print(\"Directorio actual:\", notebook_dir)\n",
    "\n",
    "# Detectar y configurar rutas\n",
    "if os.path.basename(notebook_dir) == 'notebooks':\n",
    "    project_dir = os.path.dirname(notebook_dir)\n",
    "    data_path = os.path.join(notebook_dir, 'data', 'processed')\n",
    "else:\n",
    "    project_dir = notebook_dir\n",
    "    data_path = os.path.join(project_dir, 'notebooks', 'data', 'processed')\n",
    "\n",
    "print(\"Directorio del proyecto:\", project_dir)\n",
    "\n",
    "# Verificar y crear directorios necesarios\n",
    "src_path = os.path.join(project_dir, 'src')\n",
    "utils_path = os.path.join(src_path, 'utils')\n",
    "\n",
    "# Crear __init__.py si no existen\n",
    "init_files = [\n",
    "    os.path.join(src_path, '__init__.py'),\n",
    "    os.path.join(utils_path, '__init__.py')\n",
    "]\n",
    "\n",
    "for init_file in init_files:\n",
    "    if not os.path.exists(os.path.dirname(init_file)):\n",
    "        os.makedirs(os.path.dirname(init_file))\n",
    "    if not os.path.exists(init_file):\n",
    "        open(init_file, 'a').close()\n",
    "        print(f\"Creado {init_file}\")\n",
    "\n",
    "print(\"\\nVerificando estructura del proyecto:\")\n",
    "print(f\"¿Existe src/?: {os.path.exists(src_path)}\")\n",
    "print(f\"¿Existe data/processed/?: {os.path.exists(data_path)}\")\n",
    "\n",
    "if os.path.exists(data_path):\n",
    "    print(\"\\nContenido de data/processed/:\")\n",
    "    print(os.listdir(data_path))\n",
    "\n",
    "# Agregar proyecto al path de Python\n",
    "if os.path.exists(project_dir):\n",
    "    if project_dir not in sys.path:\n",
    "        sys.path.insert(0, project_dir)\n",
    "        print(\"\\nPath actualizado:\", project_dir)\n",
    "\n",
    "# Intentar importar nuestros módulos\n",
    "try:\n",
    "    from src.utils.model_engineering import ModelEngineer\n",
    "    print(\"\\nMódulos importados correctamente\")\n",
    "except ImportError as e:\n",
    "    print(\"\\nError importando módulos:\", str(e))\n",
    "    print(\"\\nDetalles del error:\")\n",
    "    import traceback\n",
    "    traceback.print_exc()\n",
    "\n",
    "# Definir período de análisis\n",
    "end_date = datetime.now()\n",
    "end_date_str = end_date.strftime('%Y-%m-%d')"
   ]
  },
  {
   "cell_type": "code",
   "execution_count": 2,
   "metadata": {},
   "outputs": [
    {
     "name": "stdout",
     "output_type": "stream",
     "text": [
      "\n",
      "Cargando datos procesados...\n",
      "Datos técnicos cargados de: technical_features_2024-11-12.csv\n",
      "Datos estadísticos cargados de: statistical_features_2024-11-12.csv\n",
      "Datos de sentimiento cargados de: sentiment_features_2024-11-12.csv\n"
     ]
    }
   ],
   "source": [
    "# Cargar datos procesados\n",
    "try:\n",
    "    print(\"\\nCargando datos procesados...\")\n",
    "    \n",
    "    # Cargar características técnicas\n",
    "    tech_files = [f for f in os.listdir(data_path) if f.startswith('technical_features_')]\n",
    "    latest_tech = max(tech_files)\n",
    "    technical_data = pd.read_csv(os.path.join(data_path, latest_tech), index_col=0, parse_dates=True)\n",
    "    print(f\"Datos técnicos cargados de: {latest_tech}\")\n",
    "    \n",
    "    # Cargar características estadísticas\n",
    "    stat_files = [f for f in os.listdir(data_path) if f.startswith('statistical_features_')]\n",
    "    latest_stat = max(stat_files)\n",
    "    statistical_data = pd.read_csv(os.path.join(data_path, latest_stat), index_col=0, parse_dates=True)\n",
    "    print(f\"Datos estadísticos cargados de: {latest_stat}\")\n",
    "    \n",
    "    # Cargar características de sentimiento si existen\n",
    "    sentiment_data = None\n",
    "    sent_files = [f for f in os.listdir(data_path) if f.startswith('sentiment_features_')]\n",
    "    if sent_files:\n",
    "        latest_sent = max(sent_files)\n",
    "        sentiment_data = pd.read_csv(os.path.join(data_path, latest_sent), index_col=0, parse_dates=True)\n",
    "        print(f\"Datos de sentimiento cargados de: {latest_sent}\")\n",
    "\n",
    "except Exception as e:\n",
    "    print(f\"\\nError cargando los datos: {str(e)}\")\n",
    "    raise"
   ]
  },
  {
   "cell_type": "code",
   "execution_count": 3,
   "metadata": {},
   "outputs": [
    {
     "name": "stdout",
     "output_type": "stream",
     "text": [
      "Usando Keras versión: 2.10.0\n"
     ]
    }
   ],
   "source": [
    "# Inicializar el modelo\n",
    "model_engineer = ModelEngineer()"
   ]
  },
  {
   "cell_type": "code",
   "execution_count": 7,
   "metadata": {},
   "outputs": [
    {
     "name": "stdout",
     "output_type": "stream",
     "text": [
      "\n",
      "Preparando datos para el modelo...\n",
      "\n",
      "Dimensiones de los datos:\n",
      "Train: (44, 10, 28)\n",
      "Test: (11, 10, 28)\n",
      "\n",
      "Construyendo modelo LSTM...\n",
      "\n",
      "Entrenando modelo...\n"
     ]
    },
    {
     "data": {
      "image/png": "[encoded data removed]",
      "text/plain": [
       "<Figure size 1500x500 with 2 Axes>"
      ]
     },
     "metadata": {},
     "output_type": "display_data"
    },
    {
     "name": "stdout",
     "output_type": "stream",
     "text": [
      "\n",
      "Evaluando modelo...\n",
      "1/1 [==============================] - 1s 882ms/step\n",
      "\n",
      "Métricas de evaluación:\n",
      "loss: 0.0333\n",
      "mae: 0.1572\n",
      "\n",
      "Resultados guardados en: /Users/mayel/repos/banco-base-proyecto-test/notebooks/data/processed/models\n"
     ]
    }
   ],
   "source": [
    "# Preparar datos para el modelo\n",
    "print(\"\\nPreparando datos para el modelo...\")\n",
    "try:\n",
    "    # Restablecer índices para evitar problemas de concatenación\n",
    "    technical_data.reset_index(drop=True, inplace=True)\n",
    "    statistical_data.reset_index(drop=True, inplace=True)\n",
    "    if sentiment_data is not None:\n",
    "        sentiment_data.reset_index(drop=True, inplace=True)\n",
    "    \n",
    "    train_data, test_data = model_engineer.prepare_data(\n",
    "        technical_data=technical_data,\n",
    "        statistical_data=statistical_data,\n",
    "        sentiment_data=sentiment_data\n",
    "    )\n",
    "    \n",
    "    print(\"\\nDimensiones de los datos:\")\n",
    "    print(f\"Train: {train_data['X'].shape}\")\n",
    "    print(f\"Test: {test_data['X'].shape}\")\n",
    "    \n",
    "    # Construir modelo con mayor parametrización\n",
    "    print(\"\\nConstruyendo modelo LSTM...\")\n",
    "    model_engineer.build_model(input_shape=(train_data['X'].shape[1], train_data['X'].shape[2]))\n",
    "    \n",
    "    # Entrenar modelo con más iteraciones y ajuste de parámetros\n",
    "    print(\"\\nEntrenando modelo...\")\n",
    "    history = model_engineer.train_model(\n",
    "        train_data,\n",
    "        test_data,\n",
    "        epochs=2000,  # Ajustar las épocas para un mejor balance entre ajuste y recursos\n",
    "        batch_size=10  # Ajustar el tamaño del lote para un entrenamiento más eficiente\n",
    "    )\n",
    "    \n",
    "    # Visualizar historia del entrenamiento\n",
    "    model_engineer.plot_training_history(history)\n",
    "    \n",
    "    # Evaluar modelo\n",
    "    print(\"\\nEvaluando modelo...\")\n",
    "    metrics, predictions = model_engineer.evaluate_model(test_data)\n",
    "    print(\"\\nMétricas de evaluación:\")\n",
    "    for metric, value in metrics.items():\n",
    "        print(f\"{metric}: {value:.4f}\")\n",
    "    \n",
    "    # Guardar modelo y resultados\n",
    "    output_dir = os.path.join(data_path, 'models')\n",
    "    os.makedirs(output_dir, exist_ok=True)\n",
    "    \n",
    "    # Guardar métricas\n",
    "    pd.DataFrame(metrics, index=[0]).to_csv(\n",
    "        os.path.join(output_dir, f'model_metrics_{end_date_str}.csv')\n",
    "    )\n",
    "    \n",
    "    # Guardar historia del entrenamiento\n",
    "    history.to_csv(os.path.join(output_dir, f'training_history_{end_date_str}.csv'))\n",
    "    \n",
    "    print(f\"\\nResultados guardados en: {output_dir}\")\n",
    "\n",
    "except Exception as e:\n",
    "    print(f\"\\nError en el proceso de modelado: {str(e)}\")\n",
    "    import traceback\n",
    "    traceback.print_exc()"
   ]
  },
  {
   "cell_type": "code",
   "execution_count": 8,
   "metadata": {},
   "outputs": [
    {
     "data": {
      "application/vnd.plotly.v1+json": {
       "config": {
        "plotlyServerURL": "https://plot.ly"
       },
       "data": [
        {
         "line": {
          "color": "blue"
         },
         "mode": "lines",
         "name": "Valores Reales",
         "type": "scatter",
         "x": [
          0,
          1,
          2,
          3,
          4,
          5,
          6,
          7,
          8,
          9,
          10
         ],
         "y": [
          19.603700000000003,
          19.8168,
          19.6535,
          19.798,
          19.8335,
          19.846,
          20.0028,
          20.0172,
          19.8798,
          20.0583,
          19.839
         ]
        },
        {
         "line": {
          "color": "red"
         },
         "mode": "lines",
         "name": "Predicciones",
         "type": "scatter",
         "x": [
          0,
          1,
          2,
          3,
          4,
          5,
          6,
          7,
          8,
          9,
          10
         ],
         "y": [
          19.631479263305664,
          19.633684158325195,
          19.607606887817383,
          19.544105529785156,
          19.480955123901367,
          19.398706436157227,
          19.346750259399414,
          19.338083267211914,
          19.39634132385254,
          19.407970428466797,
          19.453998565673828
         ]
        },
        {
         "line": {
          "color": "rgba(255, 0, 0, 0.3)"
         },
         "mode": "lines",
         "name": "Límite Superior",
         "showlegend": false,
         "type": "scatter",
         "x": [
          0,
          1,
          2,
          3,
          4,
          5,
          6,
          7,
          8,
          9,
          10
         ],
         "y": [
          20.084203720092773,
          20.086408615112305,
          20.060331344604492,
          19.996829986572266,
          19.933679580688477,
          19.851430892944336,
          19.799474716186523,
          19.790807723999023,
          19.84906578063965,
          19.860694885253906,
          19.906723022460938
         ]
        },
        {
         "fill": "tonexty",
         "fillcolor": "rgba(255, 0, 0, 0.1)",
         "line": {
          "color": "rgba(255, 0, 0, 0.3)"
         },
         "mode": "lines",
         "name": "Límite Inferior",
         "showlegend": false,
         "type": "scatter",
         "x": [
          0,
          1,
          2,
          3,
          4,
          5,
          6,
          7,
          8,
          9,
          10
         ],
         "y": [
          19.178754806518555,
          19.180959701538086,
          19.154882431030273,
          19.091381072998047,
          19.028230667114258,
          18.945981979370117,
          18.894025802612305,
          18.885358810424805,
          18.94361686706543,
          18.955245971679688,
          19.00127410888672
         ]
        }
       ],
       "layout": {
        "template": {
         "data": {
          "bar": [
           {
            "error_x": {
             "color": "#2a3f5f"
            },
            "error_y": {
             "color": "#2a3f5f"
            },
            "marker": {
             "line": {
              "color": "white",
              "width": 0.5
             },
             "pattern": {
              "fillmode": "overlay",
              "size": 10,
              "solidity": 0.2
             }
            },
            "type": "bar"
           }
          ],
          "barpolar": [
           {
            "marker": {
             "line": {
              "color": "white",
              "width": 0.5
             },
             "pattern": {
              "fillmode": "overlay",
              "size": 10,
              "solidity": 0.2
             }
            },
            "type": "barpolar"
           }
          ],
          "carpet": [
           {
            "aaxis": {
             "endlinecolor": "#2a3f5f",
             "gridcolor": "#C8D4E3",
             "linecolor": "#C8D4E3",
             "minorgridcolor": "#C8D4E3",
             "startlinecolor": "#2a3f5f"
            },
            "baxis": {
             "endlinecolor": "#2a3f5f",
             "gridcolor": "#C8D4E3",
             "linecolor": "#C8D4E3",
             "minorgridcolor": "#C8D4E3",
             "startlinecolor": "#2a3f5f"
            },
            "type": "carpet"
           }
          ],
          "choropleth": [
           {
            "colorbar": {
             "outlinewidth": 0,
             "ticks": ""
            },
            "type": "choropleth"
           }
          ],
          "contour": [
           {
            "colorbar": {
             "outlinewidth": 0,
             "ticks": ""
            },
            "colorscale": [
             [
              0,
              "#0d0887"
             ],
             [
              0.1111111111111111,
              "#46039f"
             ],
             [
              0.2222222222222222,
              "#7201a8"
             ],
             [
              0.3333333333333333,
              "#9c179e"
             ],
             [
              0.4444444444444444,
              "#bd3786"
             ],
             [
              0.5555555555555556,
              "#d8576b"
             ],
             [
              0.6666666666666666,
              "#ed7953"
             ],
             [
              0.7777777777777778,
              "#fb9f3a"
             ],
             [
              0.8888888888888888,
              "#fdca26"
             ],
             [
              1,
              "#f0f921"
             ]
            ],
            "type": "contour"
           }
          ],
          "contourcarpet": [
           {
            "colorbar": {
             "outlinewidth": 0,
             "ticks": ""
            },
            "type": "contourcarpet"
           }
          ],
          "heatmap": [
           {
            "colorbar": {
             "outlinewidth": 0,
             "ticks": ""
            },
            "colorscale": [
             [
              0,
              "#0d0887"
             ],
             [
              0.1111111111111111,
              "#46039f"
             ],
             [
              0.2222222222222222,
              "#7201a8"
             ],
             [
              0.3333333333333333,
              "#9c179e"
             ],
             [
              0.4444444444444444,
              "#bd3786"
             ],
             [
              0.5555555555555556,
              "#d8576b"
             ],
             [
              0.6666666666666666,
              "#ed7953"
             ],
             [
              0.7777777777777778,
              "#fb9f3a"
             ],
             [
              0.8888888888888888,
              "#fdca26"
             ],
             [
              1,
              "#f0f921"
             ]
            ],
            "type": "heatmap"
           }
          ],
          "heatmapgl": [
           {
            "colorbar": {
             "outlinewidth": 0,
             "ticks": ""
            },
            "colorscale": [
             [
              0,
              "#0d0887"
             ],
             [
              0.1111111111111111,
              "#46039f"
             ],
             [
              0.2222222222222222,
              "#7201a8"
             ],
             [
              0.3333333333333333,
              "#9c179e"
             ],
             [
              0.4444444444444444,
              "#bd3786"
             ],
             [
              0.5555555555555556,
              "#d8576b"
             ],
             [
              0.6666666666666666,
              "#ed7953"
             ],
             [
              0.7777777777777778,
              "#fb9f3a"
             ],
             [
              0.8888888888888888,
              "#fdca26"
             ],
             [
              1,
              "#f0f921"
             ]
            ],
            "type": "heatmapgl"
           }
          ],
          "histogram": [
           {
            "marker": {
             "pattern": {
              "fillmode": "overlay",
              "size": 10,
              "solidity": 0.2
             }
            },
            "type": "histogram"
           }
          ],
          "histogram2d": [
           {
            "colorbar": {
             "outlinewidth": 0,
             "ticks": ""
            },
            "colorscale": [
             [
              0,
              "#0d0887"
             ],
             [
              0.1111111111111111,
              "#46039f"
             ],
             [
              0.2222222222222222,
              "#7201a8"
             ],
             [
              0.3333333333333333,
              "#9c179e"
             ],
             [
              0.4444444444444444,
              "#bd3786"
             ],
             [
              0.5555555555555556,
              "#d8576b"
             ],
             [
              0.6666666666666666,
              "#ed7953"
             ],
             [
              0.7777777777777778,
              "#fb9f3a"
             ],
             [
              0.8888888888888888,
              "#fdca26"
             ],
             [
              1,
              "#f0f921"
             ]
            ],
            "type": "histogram2d"
           }
          ],
          "histogram2dcontour": [
           {
            "colorbar": {
             "outlinewidth": 0,
             "ticks": ""
            },
            "colorscale": [
             [
              0,
              "#0d0887"
             ],
             [
              0.1111111111111111,
              "#46039f"
             ],
             [
              0.2222222222222222,
              "#7201a8"
             ],
             [
              0.3333333333333333,
              "#9c179e"
             ],
             [
              0.4444444444444444,
              "#bd3786"
             ],
             [
              0.5555555555555556,
              "#d8576b"
             ],
             [
              0.6666666666666666,
              "#ed7953"
             ],
             [
              0.7777777777777778,
              "#fb9f3a"
             ],
             [
              0.8888888888888888,
              "#fdca26"
             ],
             [
              1,
              "#f0f921"
             ]
            ],
            "type": "histogram2dcontour"
           }
          ],
          "mesh3d": [
           {
            "colorbar": {
             "outlinewidth": 0,
             "ticks": ""
            },
            "type": "mesh3d"
           }
          ],
          "parcoords": [
           {
            "line": {
             "colorbar": {
              "outlinewidth": 0,
              "ticks": ""
             }
            },
            "type": "parcoords"
           }
          ],
          "pie": [
           {
            "automargin": true,
            "type": "pie"
           }
          ],
          "scatter": [
           {
            "fillpattern": {
             "fillmode": "overlay",
             "size": 10,
             "solidity": 0.2
            },
            "type": "scatter"
           }
          ],
          "scatter3d": [
           {
            "line": {
             "colorbar": {
              "outlinewidth": 0,
              "ticks": ""
             }
            },
            "marker": {
             "colorbar": {
              "outlinewidth": 0,
              "ticks": ""
             }
            },
            "type": "scatter3d"
           }
          ],
          "scattercarpet": [
           {
            "marker": {
             "colorbar": {
              "outlinewidth": 0,
              "ticks": ""
             }
            },
            "type": "scattercarpet"
           }
          ],
          "scattergeo": [
           {
            "marker": {
             "colorbar": {
              "outlinewidth": 0,
              "ticks": ""
             }
            },
            "type": "scattergeo"
           }
          ],
          "scattergl": [
           {
            "marker": {
             "colorbar": {
              "outlinewidth": 0,
              "ticks": ""
             }
            },
            "type": "scattergl"
           }
          ],
          "scattermapbox": [
           {
            "marker": {
             "colorbar": {
              "outlinewidth": 0,
              "ticks": ""
             }
            },
            "type": "scattermapbox"
           }
          ],
          "scatterpolar": [
           {
            "marker": {
             "colorbar": {
              "outlinewidth": 0,
              "ticks": ""
             }
            },
            "type": "scatterpolar"
           }
          ],
          "scatterpolargl": [
           {
            "marker": {
             "colorbar": {
              "outlinewidth": 0,
              "ticks": ""
             }
            },
            "type": "scatterpolargl"
           }
          ],
          "scatterternary": [
           {
            "marker": {
             "colorbar": {
              "outlinewidth": 0,
              "ticks": ""
             }
            },
            "type": "scatterternary"
           }
          ],
          "surface": [
           {
            "colorbar": {
             "outlinewidth": 0,
             "ticks": ""
            },
            "colorscale": [
             [
              0,
              "#0d0887"
             ],
             [
              0.1111111111111111,
              "#46039f"
             ],
             [
              0.2222222222222222,
              "#7201a8"
             ],
             [
              0.3333333333333333,
              "#9c179e"
             ],
             [
              0.4444444444444444,
              "#bd3786"
             ],
             [
              0.5555555555555556,
              "#d8576b"
             ],
             [
              0.6666666666666666,
              "#ed7953"
             ],
             [
              0.7777777777777778,
              "#fb9f3a"
             ],
             [
              0.8888888888888888,
              "#fdca26"
             ],
             [
              1,
              "#f0f921"
             ]
            ],
            "type": "surface"
           }
          ],
          "table": [
           {
            "cells": {
             "fill": {
              "color": "#EBF0F8"
             },
             "line": {
              "color": "white"
             }
            },
            "header": {
             "fill": {
              "color": "#C8D4E3"
             },
             "line": {
              "color": "white"
             }
            },
            "type": "table"
           }
          ]
         },
         "layout": {
          "annotationdefaults": {
           "arrowcolor": "#2a3f5f",
           "arrowhead": 0,
           "arrowwidth": 1
          },
          "autotypenumbers": "strict",
          "coloraxis": {
           "colorbar": {
            "outlinewidth": 0,
            "ticks": ""
           }
          },
          "colorscale": {
           "diverging": [
            [
             0,
             "#8e0152"
            ],
            [
             0.1,
             "#c51b7d"
            ],
            [
             0.2,
             "#de77ae"
            ],
            [
             0.3,
             "#f1b6da"
            ],
            [
             0.4,
             "#fde0ef"
            ],
            [
             0.5,
             "#f7f7f7"
            ],
            [
             0.6,
             "#e6f5d0"
            ],
            [
             0.7,
             "#b8e186"
            ],
            [
             0.8,
             "#7fbc41"
            ],
            [
             0.9,
             "#4d9221"
            ],
            [
             1,
             "#276419"
            ]
           ],
           "sequential": [
            [
             0,
             "#0d0887"
            ],
            [
             0.1111111111111111,
             "#46039f"
            ],
            [
             0.2222222222222222,
             "#7201a8"
            ],
            [
             0.3333333333333333,
             "#9c179e"
            ],
            [
             0.4444444444444444,
             "#bd3786"
            ],
            [
             0.5555555555555556,
             "#d8576b"
            ],
            [
             0.6666666666666666,
             "#ed7953"
            ],
            [
             0.7777777777777778,
             "#fb9f3a"
            ],
            [
             0.8888888888888888,
             "#fdca26"
            ],
            [
             1,
             "#f0f921"
            ]
           ],
           "sequentialminus": [
            [
             0,
             "#0d0887"
            ],
            [
             0.1111111111111111,
             "#46039f"
            ],
            [
             0.2222222222222222,
             "#7201a8"
            ],
            [
             0.3333333333333333,
             "#9c179e"
            ],
            [
             0.4444444444444444,
             "#bd3786"
            ],
            [
             0.5555555555555556,
             "#d8576b"
            ],
            [
             0.6666666666666666,
             "#ed7953"
            ],
            [
             0.7777777777777778,
             "#fb9f3a"
            ],
            [
             0.8888888888888888,
             "#fdca26"
            ],
            [
             1,
             "#f0f921"
            ]
           ]
          },
          "colorway": [
           "#636efa",
           "#EF553B",
           "#00cc96",
           "#ab63fa",
           "#FFA15A",
           "#19d3f3",
           "#FF6692",
           "#B6E880",
           "#FF97FF",
           "#FECB52"
          ],
          "font": {
           "color": "#2a3f5f"
          },
          "geo": {
           "bgcolor": "white",
           "lakecolor": "white",
           "landcolor": "white",
           "showlakes": true,
           "showland": true,
           "subunitcolor": "#C8D4E3"
          },
          "hoverlabel": {
           "align": "left"
          },
          "hovermode": "closest",
          "mapbox": {
           "style": "light"
          },
          "paper_bgcolor": "white",
          "plot_bgcolor": "white",
          "polar": {
           "angularaxis": {
            "gridcolor": "#EBF0F8",
            "linecolor": "#EBF0F8",
            "ticks": ""
           },
           "bgcolor": "white",
           "radialaxis": {
            "gridcolor": "#EBF0F8",
            "linecolor": "#EBF0F8",
            "ticks": ""
           }
          },
          "scene": {
           "xaxis": {
            "backgroundcolor": "white",
            "gridcolor": "#DFE8F3",
            "gridwidth": 2,
            "linecolor": "#EBF0F8",
            "showbackground": true,
            "ticks": "",
            "zerolinecolor": "#EBF0F8"
           },
           "yaxis": {
            "backgroundcolor": "white",
            "gridcolor": "#DFE8F3",
            "gridwidth": 2,
            "linecolor": "#EBF0F8",
            "showbackground": true,
            "ticks": "",
            "zerolinecolor": "#EBF0F8"
           },
           "zaxis": {
            "backgroundcolor": "white",
            "gridcolor": "#DFE8F3",
            "gridwidth": 2,
            "linecolor": "#EBF0F8",
            "showbackground": true,
            "ticks": "",
            "zerolinecolor": "#EBF0F8"
           }
          },
          "shapedefaults": {
           "line": {
            "color": "#2a3f5f"
           }
          },
          "ternary": {
           "aaxis": {
            "gridcolor": "#DFE8F3",
            "linecolor": "#A2B1C6",
            "ticks": ""
           },
           "baxis": {
            "gridcolor": "#DFE8F3",
            "linecolor": "#A2B1C6",
            "ticks": ""
           },
           "bgcolor": "white",
           "caxis": {
            "gridcolor": "#DFE8F3",
            "linecolor": "#A2B1C6",
            "ticks": ""
           }
          },
          "title": {
           "x": 0.05
          },
          "xaxis": {
           "automargin": true,
           "gridcolor": "#EBF0F8",
           "linecolor": "#EBF0F8",
           "ticks": "",
           "title": {
            "standoff": 15
           },
           "zerolinecolor": "#EBF0F8",
           "zerolinewidth": 2
          },
          "yaxis": {
           "automargin": true,
           "gridcolor": "#EBF0F8",
           "linecolor": "#EBF0F8",
           "ticks": "",
           "title": {
            "standoff": 15
           },
           "zerolinecolor": "#EBF0F8",
           "zerolinewidth": 2
          }
         }
        },
        "title": {
         "text": "Predicciones vs Valores Reales con Banda de Incertidumbre (95% de Confianza)"
        },
        "xaxis": {
         "title": {
          "text": "Tiempo"
         }
        },
        "yaxis": {
         "title": {
          "text": "USD/MXN"
         }
        }
       }
      }
     },
     "metadata": {},
     "output_type": "display_data"
    }
   ],
   "source": [
    "# Visualizar predicciones con área de incertidumbre\n",
    "actual_values = model_engineer.scalers['target'].inverse_transform(test_data['y'])\n",
    "\n",
    "fig = go.Figure()\n",
    "fig.add_trace(go.Scatter(\n",
    "    x=np.arange(len(actual_values)),\n",
    "    y=actual_values.flatten(),\n",
    "    mode='lines',\n",
    "    name='Valores Reales',\n",
    "    line=dict(color='blue')\n",
    "))\n",
    "\n",
    "fig.add_trace(go.Scatter(\n",
    "    x=np.arange(len(predictions)),\n",
    "    y=predictions.flatten(),\n",
    "    mode='lines',\n",
    "    name='Predicciones',\n",
    "    line=dict(color='red')\n",
    "))\n",
    "\n",
    "# Agregar banda de incertidumbre\n",
    "prediction_std = np.std(predictions.flatten() - actual_values.flatten())\n",
    "upper_bound = predictions.flatten() + (prediction_std * 1.96)  # Ajustar la incertidumbre al 95% de confianza\n",
    "lower_bound = predictions.flatten() - (prediction_std * 1.96)\n",
    "\n",
    "fig.add_trace(go.Scatter(\n",
    "    x=np.arange(len(predictions)),\n",
    "    y=upper_bound,\n",
    "    mode='lines',\n",
    "    name='Límite Superior',\n",
    "    line=dict(color='rgba(255, 0, 0, 0.3)'),\n",
    "    showlegend=False\n",
    "))\n",
    "\n",
    "fig.add_trace(go.Scatter(\n",
    "    x=np.arange(len(predictions)),\n",
    "    y=lower_bound,\n",
    "    mode='lines',\n",
    "    name='Límite Inferior',\n",
    "    line=dict(color='rgba(255, 0, 0, 0.3)'),\n",
    "    fill='tonexty',\n",
    "    fillcolor='rgba(255, 0, 0, 0.1)',\n",
    "    showlegend=False\n",
    "))\n",
    "\n",
    "fig.update_layout(\n",
    "    title='Predicciones vs Valores Reales con Banda de Incertidumbre (95% de Confianza)',\n",
    "    xaxis_title='Tiempo',\n",
    "    yaxis_title='USD/MXN',\n",
    "    template='plotly_white'\n",
    ")\n",
    "\n",
    "fig.show()"
   ]
  }
 ],
 "metadata": {
  "kernelspec": {
   "display_name": "venv",
   "language": "python",
   "name": "python3"
  },
  "language_info": {
   "codemirror_mode": {
    "name": "ipython",
    "version": 3
   },
   "file_extension": ".py",
   "mimetype": "text/x-python",
   "name": "python",
   "nbconvert_exporter": "python",
   "pygments_lexer": "ipython3",
   "version": "3.9.0"
  }
 },
 "nbformat": 4,
 "nbformat_minor": 2
}
